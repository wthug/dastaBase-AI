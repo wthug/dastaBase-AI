{
 "cells": [
  {
   "cell_type": "code",
   "execution_count": null,
   "metadata": {},
   "outputs": [],
   "source": [
    "!pip install marker-pdf"
   ]
  },
  {
   "cell_type": "code",
   "execution_count": 4,
   "metadata": {},
   "outputs": [],
   "source": [
    "from marker.converters.pdf import PdfConverter\n",
    "from marker.models import create_model_dict\n",
    "from marker.output import text_from_rendered\n",
    "from marker.config.parser import ConfigParser"
   ]
  },
  {
   "cell_type": "code",
   "execution_count": 5,
   "metadata": {},
   "outputs": [],
   "source": [
    "config = {\n",
    "    'output_format':'markdown',\n",
    "    'force_ocr':True,\n",
    "    'debug':True,\n",
    "}\n",
    "\n",
    "config_parser = ConfigParser(config)"
   ]
  },
  {
   "cell_type": "code",
   "execution_count": 6,
   "metadata": {},
   "outputs": [
    {
     "name": "stdout",
     "output_type": "stream",
     "text": [
      "Loaded layout model s3://layout/2025_02_18 on device mps with dtype torch.float16\n",
      "Loaded texify model s3://texify/2025_02_18 on device mps with dtype torch.float16\n",
      "Loaded recognition model s3://text_recognition/2025_02_18 on device mps with dtype torch.float16\n",
      "Loaded table recognition model s3://table_recognition/2025_02_18 on device mps with dtype torch.float16\n",
      "Loaded detection model s3://text_detection/2025_02_28 on device mps with dtype torch.float16\n",
      "Loaded detection model s3://inline_math_detection/2025_02_24 on device mps with dtype torch.float16\n"
     ]
    }
   ],
   "source": [
    "converter = PdfConverter(\n",
    "    artifact_dict=create_model_dict(),\n",
    "    config=config_parser.generate_config_dict(),\n",
    "    processor_list=config_parser.get_processors(),\n",
    "    renderer=config_parser.get_renderer(),\n",
    ")"
   ]
  },
  {
   "cell_type": "code",
   "execution_count": 7,
   "metadata": {},
   "outputs": [
    {
     "name": "stderr",
     "output_type": "stream",
     "text": [
      "Recognizing layout: 100%|██████████| 1/1 [00:01<00:00,  1.55s/it]\n",
      "Running OCR Error Detection: 100%|██████████| 1/1 [00:00<00:00, 18.59it/s]\n",
      "Detecting bboxes: 100%|██████████| 1/1 [00:00<00:00,  3.11it/s]\n",
      "Recognizing Text: 100%|██████████| 1/1 [00:09<00:00,  9.05s/it]\n",
      "Detecting bboxes: 100%|██████████| 1/1 [00:00<00:00,  1.28it/s]\n",
      "Recognizing Text: 100%|██████████| 1/1 [00:23<00:00, 23.37s/it]\n",
      "Recognizing tables: 100%|██████████| 1/1 [00:02<00:00,  2.78s/it]\n"
     ]
    },
    {
     "name": "stdout",
     "output_type": "stream",
     "text": [
      "Dumped layout debug images to /opt/anaconda3/envs/myenv/lib/python3.12/site-packages/conversion_results\n",
      "Dumped PDF debug images to /opt/anaconda3/envs/myenv/lib/python3.12/site-packages/conversion_results\n",
      "Dumped block debug data to /opt/anaconda3/envs/myenv/lib/python3.12/site-packages/conversion_results\n"
     ]
    }
   ],
   "source": [
    "rendered = converter(\"./dataset/invoices_dataset_final/images/Template1_Instance0.jpg\")\n",
    "# rendered = converter(\"pdfs/sample-invoice_page-0001.jpg\")\n",
    "text, _, images = text_from_rendered(rendered)"
   ]
  },
  {
   "cell_type": "code",
   "execution_count": 5,
   "metadata": {},
   "outputs": [
    {
     "name": "stdout",
     "output_type": "stream",
     "text": [
      "markdown='![](_page_0_Picture_0.jpeg)\\n\\n## TAX INVOICE\\n\\nDate: 20-Mar-2008 Due Date : 16-Oct-2016 PO Number :35\\n\\nAddress:16424 Timothy Mission Markville, AK 58294 US\\n\\nEmail:melvin40@example.net www.ThompsonandSons.orq (GSTIN: 12345670 00070007\\n\\nBill to:Denise Perez 16424 Timothy Mission Markville, AK 58294 US Tel:+(352)259-8443 Email:melvin40@example.net Site:http://smith.org/\\n\\nGSTIN: OG@AAMFCO376K124\\n\\n| ITEMS            | QUANTITY | PRICE   |\\n|------------------|----------|---------|\\n| Data score fire. | 6.00     | \\\\$57.80 |\\n| Determine half.  | 2.00     | \\\\$24.70 |\\n| Model read.      | 1.00     | \\\\$86.14 |\\n| Mother consider. | 1.00     | \\\\$81.84 |\\n| Ty focus.        | 4.00     | \\\\$40.28 |\\n\\nTotal in words: seven hundred and thirty-four point three three Bank Name State Bank of California Raf CAMP Branch Name Bank Account Number 11695435 Bank Swift Code SBININBB250\\n\\nNote: This order is shipped through blue dart courier SUB\\\\_TOTAL : 725.30 EUR DISCOUNT(1.85%): (-) 13.42 TAX:VAT (3.88%): 28.18 EUR\\n\\nTOTAL : 734.33 EUR' images={'_page_0_Picture_0.jpeg': <PIL.Image.Image image mode=RGB size=75x81 at 0x387DACBF0>} metadata={'table_of_contents': [{'title': 'TAX INVOICE', 'heading_level': None, 'page_id': 0, 'polygon': [[326.0, 19.787933349609375], [443.3447265625, 19.787933349609375], [443.3447265625, 40.012176513671875], [326.0, 40.012176513671875]]}], 'page_stats': [{'page_id': 0, 'text_extraction_method': 'surya', 'block_counts': [('Line', 31), ('Span', 31), ('TableCell', 18), ('Text', 9), ('Picture', 1), ('SectionHeader', 1), ('Table', 1)], 'block_metadata': {'llm_request_count': 0, 'llm_error_count': 0, 'llm_tokens_used': 0}}], 'debug_data_path': '/opt/anaconda3/envs/myenv/lib/python3.12/site-packages/conversion_results/Template1_Instance0'}\n"
     ]
    }
   ],
   "source": [
    "print(rendered)"
   ]
  },
  {
   "cell_type": "code",
   "execution_count": 8,
   "metadata": {},
   "outputs": [
    {
     "name": "stderr",
     "output_type": "stream",
     "text": [
      "python(7385) MallocStackLogging: can't turn off malloc stack logging because it was not enabled.\n",
      "python(7388) MallocStackLogging: can't turn off malloc stack logging because it was not enabled.\n"
     ]
    }
   ],
   "source": [
    "for image in images.values():\n",
    "    image.show()"
   ]
  },
  {
   "cell_type": "code",
   "execution_count": 9,
   "metadata": {},
   "outputs": [
    {
     "name": "stdout",
     "output_type": "stream",
     "text": [
      "![](_page_0_Picture_0.jpeg)\n",
      "\n",
      "## TAX INVOICE\n",
      "\n",
      "Date: 20-Mar-2008 Due Date : 16-Oct-2016 PO Number :35\n",
      "\n",
      "Address:16424 Timothy Mission Markville, AK 58294 US\n",
      "\n",
      "Email:melvin40@example.net www.ThompsonandSons.orq (GSTIN: 12345670 00070007\n",
      "\n",
      "Bill to:Denise Perez 16424 Timothy Mission Markville, AK 58294 US Tel:+(352)259-8443 Email:melvin40@example.net Site:http://smith.org/\n",
      "\n",
      "GSTIN: OG@AAMFCO376K124\n",
      "\n",
      "| ITEMS            | QUANTITY | PRICE   |\n",
      "|------------------|----------|---------|\n",
      "| Data score fire. | 6.00     | \\$57.80 |\n",
      "| Determine half.  | 2.00     | \\$24.70 |\n",
      "| Model read.      | 1.00     | \\$86.14 |\n",
      "| Mother consider. | 1.00     | \\$81.84 |\n",
      "| Ty focus.        | 4.00     | \\$40.28 |\n",
      "\n",
      "Total in words: seven hundred and thirty-four point three three Bank Name State Bank of California Raf CAMP Branch Name Bank Account Number 11695435 Bank Swift Code SBININBB250\n",
      "\n",
      "Note: This order is shipped through blue dart courier SUB\\_TOTAL : 725.30 EUR DISCOUNT(1.85%): (-) 13.42 TAX:VAT (3.88%): 28.18 EUR\n",
      "\n",
      "TOTAL : 734.33 EUR\n"
     ]
    }
   ],
   "source": [
    "print(text)"
   ]
  },
  {
   "cell_type": "code",
   "execution_count": 6,
   "metadata": {},
   "outputs": [
    {
     "name": "stdout",
     "output_type": "stream",
     "text": [
      "|                                                                                                              | BHARAT STARS SERVICES PRIVATE LIMITED |                       |                                                                                                                                        | FDVNO 003188356L          |                       | DATE                     | MONTH                                                        | YEAR      |          |     |\n",
      "|--------------------------------------------------------------------------------------------------------------|---------------------------------------|-----------------------|----------------------------------------------------------------------------------------------------------------------------------------|---------------------------|-----------------------|--------------------------|--------------------------------------------------------------|-----------|----------|-----|\n",
      "|                                                                                                              |                                       | FUEL DELIVERY VOUCHER |                                                                                                                                        |                           |                       |                          | 09                                                           | 03        | 2025     |     |\n",
      "|                                                                                                              |                                       |                       |                                                                                                                                        |                           | AIRFIELD<br>A YODHYA  |                          |                                                              |           |          |     |\n",
      "|                                                                                                              |                                       |                       |                                                                                                                                        |                           | LOCATION NAME         |                          | IATA CODE<br>SAP CODE                                        |           |          |     |\n",
      "| Trusted Partnership                                                                                          |                                       |                       |                                                                                                                                        |                           | AYODHYA<br>Acc        |                          | 4147<br>ਰਮੈਂਟ                                                |           |          |     |\n",
      "| CUSTOMER NAME :                                                                                              |                                       | ATR                   | INDIA                                                                                                                                  | EXPRESS                   |                       |                          |                                                              |           |          |     |\n",
      "| BILL TO:                                                                                                     |                                       |                       |                                                                                                                                        |                           | SUPPLIER              | 3 PC1                    |                                                              |           |          |     |\n",
      "| DEFUELLING RECEIPT                                                                                           |                                       | D                     | FLIGHT NUMBER                                                                                                                          | IX251'3                   |                       | AIRCRAFT REGISTRATION NO |                                                              |           | VT - BWH |     |\n",
      "| 2<br>DOMESTIC                                                                                                |                                       |                       | ARRIVED FROM                                                                                                                           | DEL                       |                       | AIRCRAFT TYPE            |                                                              | 3737      |          |     |\n",
      "| EXPORT<br>DUTY PAID<br>BONDED                                                                                |                                       | ದ<br>D                | PROCEEDING TO                                                                                                                          | DEL                       |                       |                          | Scheduled Airline's aircraft with MTOW <40 T<br>NOT<br>YES П |           |          |     |\n",
      "| BAY NO.<br>03                                                                                                |                                       | CARNET NO :           |                                                                                                                                        |                           |                       | TIME - HH:MM (IST-24HR)  |                                                              |           |          |     |\n",
      "| HYDRANT PIT NO.                                                                                              |                                       |                       | EXPIRES ON :                                                                                                                           |                           |                       |                          | EQUIPMENT POSITIONED<br>:40                                  |           |          |     |\n",
      "| FUEL AUTHORISATION REFERENCE NO. (for N/SCH.FLIGHTS):                                                        |                                       |                       |                                                                                                                                        |                           |                       | FUELLING STARTED         |                                                              |           | 45       |     |\n",
      "|                                                                                                              |                                       |                       |                                                                                                                                        |                           | FUELLING COMPLETED    |                          | : 53                                                         |           |          |     |\n",
      "| CASH O                                                                                                       |                                       | CREDIT &              |                                                                                                                                        |                           | 55<br>FINAL CLEARANCE |                          |                                                              |           |          |     |\n",
      "| FUEL GRADE :                                                                                                 |                                       |                       | JETA-1                                                                                                                                 | JP-5                      | AVGAS 100LL           |                          |                                                              |           |          |     |\n",
      "| EQUIPMENT NO/ID.                                                                                             |                                       |                       | R-237                                                                                                                                  |                           |                       |                          |                                                              |           |          |     |\n",
      "| CLOSING METER READING                                                                                        |                                       | rt<br>2               | 4864                                                                                                                                   |                           |                       |                          |                                                              |           |          |     |\n",
      "| OPENING METER READING                                                                                        |                                       | 768675                |                                                                                                                                        |                           |                       |                          |                                                              |           |          |     |\n",
      "| DIFFERENCE (LITRES)                                                                                          |                                       |                       | ਉ<br>8                                                                                                                                 |                           |                       |                          |                                                              |           |          |     |\n",
      "| TOTAL QUANTITY DELIVERED<br>(LITRES)                                                                         |                                       |                       | 6189<br>IN FIGURES >                                                                                                                   |                           |                       |                          |                                                              |           |          |     |\n",
      "|                                                                                                              |                                       |                       | INWORDS > SIX OINE ELGHT ININE                                                                                                         |                           |                       |                          |                                                              |           |          |     |\n",
      "| FUEL BATCHNO: JET A-11 BPC L-BR   BOT   DOG B  0 15   DOG B  0   1 K   2     TK - 1 3  <br>FUEL SAMPLE CHECK |                                       |                       |                                                                                                                                        |                           |                       |                          |                                                              |           |          |     |\n",
      "| BEFORE REFULLING                                                                                             |                                       | 8                     | 11-BPCL   ASS   R-181   OR<br>T ISSUE OF RELEVANT BIS & DEFSTAN SPECIFICATIONS                                                         |                           |                       |                          |                                                              |           |          |     |\n",
      "| (FOR DISPENSER ONLY)                                                                                         |                                       |                       | o Celsings<br>TEMPERATURE :<br>್ರಿಗಳ<br>DENSITY :<br>Kg/m³<br>. 7813                                                                   |                           |                       |                          |                                                              |           |          |     |\n",
      "| AFTER APPROX.1000 LTRS OF<br>REFUELLING<br>AFTER REFUELLING                                                  |                                       | 0<br>L                | FUEL SAMPLE CLEAR, BRIGHT AND VISUALLY FREE FROM SOLID MATTER & UNDO<br>CHECKED WITH WATER DETECTING DEVICE BY AIRLINE REPRESENTATIVE. |                           |                       |                          |                                                              |           |          |     |\n",
      "| DELIVERED BY                                                                                                 |                                       |                       |                                                                                                                                        |                           |                       | RECEIVED BY              |                                                              |           |          |     |\n",
      "| YASH RAS<br>NAME (IN BLOCK LETTERS)                                                                          |                                       |                       | Yourh Pay<br>SIGNATURE                                                                                                                 | BSSPLAID479<br>QCS NUMBER |                       | NAME (INBLOGKSEDTER      |                                                              | SIGNATURE |          | ml) |\n",
      "\n",
      ".\n",
      "\n",
      ". . . .\n",
      "\n",
      ".\n",
      "\n",
      ". . .\n"
     ]
    }
   ],
   "source": [
    "print(rendered.markdown)"
   ]
  },
  {
   "cell_type": "code",
   "execution_count": 22,
   "metadata": {},
   "outputs": [
    {
     "name": "stdout",
     "output_type": "stream",
     "text": [
      "{'table_of_contents': [{'title': '', 'heading_level': None, 'page_id': 0, 'polygon': [[366.388671875, 83.151611328125], [539.833984375, 83.151611328125], [539.833984375, 94.663330078125], [366.388671875, 94.663330078125]]}, {'title': 'Invoice WMACCESS Internet', 'heading_level': None, 'page_id': 0, 'polygon': [[57.584716796875, 294.57666015625], [196.8720703125, 294.57666015625], [196.8720703125, 305.67724609375], [57.584716796875, 305.67724609375]]}, {'title': 'VAT No. DE199378386', 'heading_level': None, 'page_id': 0, 'polygon': [[56.8935546875, 318.01123046875], [143.9072265625, 318.01123046875], [143.9072265625, 328.7642822265625], [56.8935546875, 328.7642822265625]]}, {'title': 'Invoice Details', 'heading_level': None, 'page_id': 1, 'polygon': [[239.6513671875, 70.817626953125], [365.224609375, 70.817626953125], [365.224609375, 89.2158203125], [239.6513671875, 89.2158203125]]}, {'title': 'Unit: Musterkunde AG 12345', 'heading_level': None, 'page_id': 1, 'polygon': [[42.6337890625, 126.937255859375], [449.3997497558594, 126.937255859375], [449.3997497558594, 142.149169921875], [42.6337890625, 142.149169921875]]}, {'title': 'Invoice Details for wmView Query Reference', 'heading_level': None, 'page_id': 2, 'polygon': [[121.64453125, 71.228759765625], [482.2630615234375, 71.228759765625], [482.2630615234375, 90.44921875], [121.64453125, 90.44921875]]}, {'title': 'Unit: Musterkunde AG 12345', 'heading_level': None, 'page_id': 2, 'polygon': [[45.36000061035156, 129.30126953125], [449.3997497558594, 127.65673828125], [449.3997497558594, 141.9580078125], [45.36000061035156, 141.9580078125]]}, {'title': 'Query Reference:', 'heading_level': None, 'page_id': 2, 'polygon': [[44.0888671875, 181.97589111328125], [130.2294921875, 180.384521484375], [130.2294921875, 192.718505859375], [44.0888671875, 194.363037109375]]}], 'page_stats': [{'page_id': 0, 'text_extraction_method': 'pdftext', 'block_counts': [('Span', 199), ('TableCell', 118), ('Line', 69), ('Text', 7), ('SectionHeader', 3), ('Picture', 1), ('Table', 1)], 'block_metadata': {'llm_request_count': 0, 'llm_error_count': 0, 'llm_tokens_used': 0}}, {'page_id': 1, 'text_extraction_method': 'pdftext', 'block_counts': [('Span', 197), ('TableCell', 126), ('Line', 12), ('Text', 4), ('SectionHeader', 2), ('Picture', 1), ('Table', 1)], 'block_metadata': {'llm_request_count': 0, 'llm_error_count': 0, 'llm_tokens_used': 0}}, {'page_id': 2, 'text_extraction_method': 'pdftext', 'block_counts': [('Span', 243), ('Line', 42), ('TableCell', 36), ('Text', 5), ('SectionHeader', 3), ('Table', 3), ('Picture', 1)], 'block_metadata': {'llm_request_count': 0, 'llm_error_count': 0, 'llm_tokens_used': 0}}], 'debug_data_path': 'debug_data/sample-invoice'}\n"
     ]
    }
   ],
   "source": [
    "print(rendered.metadata)"
   ]
  },
  {
   "cell_type": "code",
   "execution_count": 23,
   "metadata": {},
   "outputs": [
    {
     "name": "stdout",
     "output_type": "stream",
     "text": [
      "{'_page_0_Picture_0.jpeg': <PIL.Image.Image image mode=RGB size=246x121 at 0x37F8E8740>, '_page_1_Picture_0.jpeg': <PIL.Image.Image image mode=RGB size=327x137 at 0x38B6CFDD0>, '_page_2_Picture_0.jpeg': <PIL.Image.Image image mode=RGB size=331x134 at 0x38296B9E0>}\n"
     ]
    }
   ],
   "source": [
    "print(rendered.images)"
   ]
  },
  {
   "cell_type": "code",
   "execution_count": 24,
   "metadata": {},
   "outputs": [],
   "source": [
    "from PIL import Image"
   ]
  },
  {
   "cell_type": "code",
   "execution_count": 1,
   "metadata": {},
   "outputs": [
    {
     "ename": "NameError",
     "evalue": "name 'rendered' is not defined",
     "output_type": "error",
     "traceback": [
      "\u001b[31m---------------------------------------------------------------------------\u001b[39m",
      "\u001b[31mNameError\u001b[39m                                 Traceback (most recent call last)",
      "\u001b[36mCell\u001b[39m\u001b[36m \u001b[39m\u001b[32mIn[1]\u001b[39m\u001b[32m, line 1\u001b[39m\n\u001b[32m----> \u001b[39m\u001b[32m1\u001b[39m \u001b[38;5;28;01mfor\u001b[39;00m image \u001b[38;5;129;01min\u001b[39;00m \u001b[43mrendered\u001b[49m.images.values():\n\u001b[32m      2\u001b[39m     image.show()\n",
      "\u001b[31mNameError\u001b[39m: name 'rendered' is not defined"
     ]
    }
   ],
   "source": [
    "for image in rendered.images.values():\n",
    "    image.show()"
   ]
  },
  {
   "cell_type": "code",
   "execution_count": 10,
   "metadata": {},
   "outputs": [],
   "source": [
    "from langchain_openai import AzureChatOpenAI\n",
    "from langchain_core.messages import HumanMessage, SystemMessage\n",
    "\n",
    "llm = AzureChatOpenAI(\n",
    "    deployment_name=\"gpt-4-2\",\n",
    ")"
   ]
  },
  {
   "cell_type": "code",
   "execution_count": 27,
   "metadata": {},
   "outputs": [],
   "source": [
    "prompt = f'''\n",
    "You are an expert at parsing Markdown documents into structured JSON.\n",
    "\n",
    "Given a Markdown representation of a document (which may include text blocks, tables, bullet points, headings, etc.), extract all the meaningful information and organize it into a clean and logical JSON structure.\n",
    "\n",
    "Follow these guidelines:\n",
    "\n",
    "- Identify sections based on headings and their contents.\n",
    "\n",
    "- For any tables (e.g., services list), parse them fully into arrays of objects with appropriate fields.\n",
    "\n",
    "- If a value is missing for a field, omit it (do not guess or fill).\n",
    "\n",
    "- Keep all numeric values (amounts, quantities) cleanly extracted not in strings.\n",
    "\n",
    "- Preserve original wording where possible.\n",
    "\n",
    "- Do not hallucinate data not present in the Markdown.\n",
    "\n",
    "- One last important thing I want you to give response with data and metadata which contains following fields.\n",
    "    - issue_date\n",
    "    - due_date (optional)\n",
    "    - document_type: \"INVOICE\", \"BILL\", \"LEGAL\", \"REPORT\"\n",
    "\n",
    "- don't include new line character in response even if whole document comes in oneline\n",
    "\n",
    "Output only the final JSON, nothing else.\n",
    "Format the JSON cleanly with proper nesting.\n",
    "\n",
    "    $$$\n",
    "    {text}\n",
    "    $$$\n",
    "'''"
   ]
  },
  {
   "cell_type": "code",
   "execution_count": 28,
   "metadata": {},
   "outputs": [],
   "source": [
    "structured_data = llm.invoke(prompt)"
   ]
  },
  {
   "cell_type": "code",
   "execution_count": 29,
   "metadata": {},
   "outputs": [
    {
     "name": "stdout",
     "output_type": "stream",
     "text": [
      "==================================\u001b[1m Ai Message \u001b[0m==================================\n",
      "\n",
      "{\n",
      "  \"metadata\": {\n",
      "    \"issue_date\": \"2008-03-20T00:00:00Z\",\n",
      "    \"due_date\": \"2016-10-16T00:00:00Z\",\n",
      "    \"document_type\": \"INVOICE\"\n",
      "  },\n",
      "  \"data\": {\n",
      "    \"invoice_number\": \"35\",\n",
      "    \"company_info\": {\n",
      "      \"name\": \"Thompson and Sons\",\n",
      "      \"address\": \"16424 Timothy Mission Markville, AK 58294 US\",\n",
      "      \"email\": \"melvin40@example.net\",\n",
      "      \"website\": \"www.ThompsonandSons.orq\",\n",
      "      \"GSTIN\": \"1234567000070007\"\n",
      "    },\n",
      "    \"bill_to\": {\n",
      "      \"name\": \"Denise Perez\",\n",
      "      \"address\": \"16424 Timothy Mission Markville, AK 58294 US\",\n",
      "      \"telephone\": \"+(352)259-8443\",\n",
      "      \"email\": \"melvin40@example.net\",\n",
      "      \"site\": \"http://smith.org/\",\n",
      "      \"GSTIN\": \"OG@AAMFCO376K124\"\n",
      "    },\n",
      "    \"items\": [\n",
      "      {\n",
      "        \"description\": \"Data score fire.\",\n",
      "        \"quantity\": 6,\n",
      "        \"price\": 57.80\n",
      "      },\n",
      "      {\n",
      "        \"description\": \"Determine half.\",\n",
      "        \"quantity\": 2,\n",
      "        \"price\": 24.70\n",
      "      },\n",
      "      {\n",
      "        \"description\": \"Model read.\",\n",
      "        \"quantity\": 1,\n",
      "        \"price\": 86.14\n",
      "      },\n",
      "      {\n",
      "        \"description\": \"Mother consider.\",\n",
      "        \"quantity\": 1,\n",
      "        \"price\": 81.84\n",
      "      },\n",
      "      {\n",
      "        \"description\": \"Ty focus.\",\n",
      "        \"quantity\": 4,\n",
      "        \"price\": 40.28\n",
      "      }\n",
      "    ],\n",
      "    \"summary\": {\n",
      "      \"sub_total\": 725.30,\n",
      "      \"currency\": \"EUR\",\n",
      "      \"discount\": {\n",
      "        \"percentage\": 1.85,\n",
      "        \"amount\": 13.42\n",
      "      },\n",
      "      \"tax\": {\n",
      "        \"type\": \"VAT\",\n",
      "        \"percentage\": 3.88,\n",
      "        \"amount\": 28.18\n",
      "      },\n",
      "      \"total\": 734.33,\n",
      "      \"total_in_words\": \"seven hundred and thirty-four point three three\"\n",
      "    },\n",
      "    \"bank_details\": {\n",
      "      \"bank_name\": \"State Bank of California\",\n",
      "      \"branch_name\": \"Raf CAMP\",\n",
      "      \"account_number\": \"11695435\",\n",
      "      \"swift_code\": \"SBININBB250\"\n",
      "    },\n",
      "    \"note\": \"This order is shipped through blue dart courier\"\n",
      "  }\n",
      "}\n"
     ]
    }
   ],
   "source": [
    "structured_data.pretty_print()"
   ]
  },
  {
   "cell_type": "code",
   "execution_count": 31,
   "metadata": {},
   "outputs": [
    {
     "data": {
      "text/plain": [
       "'{  \"metadata\": {    \"issue_date\": \"2008-03-20T00:00:00Z\",    \"due_date\": \"2016-10-16T00:00:00Z\",    \"document_type\": \"INVOICE\"  },  \"data\": {    \"invoice_number\": \"35\",    \"company_info\": {      \"name\": \"Thompson and Sons\",      \"address\": \"16424 Timothy Mission Markville, AK 58294 US\",      \"email\": \"melvin40@example.net\",      \"website\": \"www.ThompsonandSons.orq\",      \"GSTIN\": \"1234567000070007\"    },    \"bill_to\": {      \"name\": \"Denise Perez\",      \"address\": \"16424 Timothy Mission Markville, AK 58294 US\",      \"telephone\": \"+(352)259-8443\",      \"email\": \"melvin40@example.net\",      \"site\": \"http://smith.org/\",      \"GSTIN\": \"OG@AAMFCO376K124\"    },    \"items\": [      {        \"description\": \"Data score fire.\",        \"quantity\": 6,        \"price\": 57.80      },      {        \"description\": \"Determine half.\",        \"quantity\": 2,        \"price\": 24.70      },      {        \"description\": \"Model read.\",        \"quantity\": 1,        \"price\": 86.14      },      {        \"description\": \"Mother consider.\",        \"quantity\": 1,        \"price\": 81.84      },      {        \"description\": \"Ty focus.\",        \"quantity\": 4,        \"price\": 40.28      }    ],    \"summary\": {      \"sub_total\": 725.30,      \"currency\": \"EUR\",      \"discount\": {        \"percentage\": 1.85,        \"amount\": 13.42      },      \"tax\": {        \"type\": \"VAT\",        \"percentage\": 3.88,        \"amount\": 28.18      },      \"total\": 734.33,      \"total_in_words\": \"seven hundred and thirty-four point three three\"    },    \"bank_details\": {      \"bank_name\": \"State Bank of California\",      \"branch_name\": \"Raf CAMP\",      \"account_number\": \"11695435\",      \"swift_code\": \"SBININBB250\"    },    \"note\": \"This order is shipped through blue dart courier\"  }}'"
      ]
     },
     "execution_count": 31,
     "metadata": {},
     "output_type": "execute_result"
    }
   ],
   "source": [
    "json_string = structured_data.content\n",
    "clean_json_string = json_string.replace(\"\\n\", \"\")\n",
    "clean_json_string"
   ]
  },
  {
   "cell_type": "code",
   "execution_count": 34,
   "metadata": {},
   "outputs": [
    {
     "data": {
      "text/plain": [
       "{'invoice_number': '35',\n",
       " 'company_info': {'name': 'Thompson and Sons',\n",
       "  'address': '16424 Timothy Mission Markville, AK 58294 US',\n",
       "  'email': 'melvin40@example.net',\n",
       "  'website': 'www.ThompsonandSons.orq',\n",
       "  'GSTIN': '1234567000070007'},\n",
       " 'bill_to': {'name': 'Denise Perez',\n",
       "  'address': '16424 Timothy Mission Markville, AK 58294 US',\n",
       "  'telephone': '+(352)259-8443',\n",
       "  'email': 'melvin40@example.net',\n",
       "  'site': 'http://smith.org/',\n",
       "  'GSTIN': 'OG@AAMFCO376K124'},\n",
       " 'items': [{'description': 'Data score fire.', 'quantity': 6, 'price': 57.8},\n",
       "  {'description': 'Determine half.', 'quantity': 2, 'price': 24.7},\n",
       "  {'description': 'Model read.', 'quantity': 1, 'price': 86.14},\n",
       "  {'description': 'Mother consider.', 'quantity': 1, 'price': 81.84},\n",
       "  {'description': 'Ty focus.', 'quantity': 4, 'price': 40.28}],\n",
       " 'summary': {'sub_total': 725.3,\n",
       "  'currency': 'EUR',\n",
       "  'discount': {'percentage': 1.85, 'amount': 13.42},\n",
       "  'tax': {'type': 'VAT', 'percentage': 3.88, 'amount': 28.18},\n",
       "  'total': 734.33,\n",
       "  'total_in_words': 'seven hundred and thirty-four point three three'},\n",
       " 'bank_details': {'bank_name': 'State Bank of California',\n",
       "  'branch_name': 'Raf CAMP',\n",
       "  'account_number': '11695435',\n",
       "  'swift_code': 'SBININBB250'},\n",
       " 'note': 'This order is shipped through blue dart courier'}"
      ]
     },
     "execution_count": 34,
     "metadata": {},
     "output_type": "execute_result"
    }
   ],
   "source": [
    "import json\n",
    "parsed_json = json.loads(clean_json_string)\n",
    "parsed_json['data']"
   ]
  },
  {
   "cell_type": "code",
   "execution_count": 36,
   "metadata": {},
   "outputs": [],
   "source": [
    "with open('data.json', 'w') as f:\n",
    "    json.dump(parsed_json['data'], f)"
   ]
  }
 ],
 "metadata": {
  "kernelspec": {
   "display_name": "myenv",
   "language": "python",
   "name": "python3"
  },
  "language_info": {
   "codemirror_mode": {
    "name": "ipython",
    "version": 3
   },
   "file_extension": ".py",
   "mimetype": "text/x-python",
   "name": "python",
   "nbconvert_exporter": "python",
   "pygments_lexer": "ipython3",
   "version": "3.12.9"
  }
 },
 "nbformat": 4,
 "nbformat_minor": 2
}
